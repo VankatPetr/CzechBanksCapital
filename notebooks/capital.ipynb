{
 "cells": [
  {
   "cell_type": "code",
   "execution_count": 2,
   "metadata": {},
   "outputs": [],
   "source": [
    "%%capture\n",
    "import sqlite3\n",
    "import pandas as pd\n",
    "\n",
    "conn = sqlite3.connect(':memory:')\n",
    "\n",
    "c = conn.cursor()\n",
    "\n",
    "c.execute(\"\"\"CREATE TABLE IF NOT EXISTS capital (\n",
    "    Bank Text,\n",
    "    Ultimo Text,\n",
    "    CapitalRatio_CET1 Real,\n",
    "    CapitalRatio_Tier1 Real,\n",
    "    CapitalRatio_TotalCapital Real,\n",
    "    CET1Capital Real,\n",
    "    AT1Capital Real,\n",
    "    Tier2Capital Real,\n",
    "    ROAA Real,\n",
    "    ROAE Real,\n",
    "    PRIMARY KEY  (Bank, Ultimo)\n",
    "    ) \"\"\")\n",
    "\n",
    "\n",
    "def insert_cap(Bank, Ultimo, CapitalRatio_CET1, CapitalRatio_Tier1, CapitalRatio_TotalCapital,\n",
    "               CET1Capital, AT1Capital, Tier2Capital, ROAA, ROAE):\n",
    "    with conn:\n",
    "        c.execute(\"INSERT INTO capital VALUES (?,?,?,?,?,?,?,?,?,?)\",\n",
    "                  (Bank, Ultimo, CapitalRatio_CET1, CapitalRatio_Tier1, CapitalRatio_TotalCapital,\n",
    "                   CET1Capital, AT1Capital, Tier2Capital, ROAA, ROAE)\n",
    "                  )\n",
    "\n",
    "\n",
    "insert_cap('CS', '2018-12-31 00:00:00.000', 16.85, 18.37,\n",
    "           19.03, 90479745327.59, 8106863760.75, 3593937834.99, 1.11, 15.55)\n",
    "insert_cap('CS', '2017-12-31 00:00:00.000', 16.49, 18.00,\n",
    "           18.61, 88353076477.85, 8106863763.59, 3236176930.73, 1.22, 15.94)\n",
    "insert_cap('CS', '2016-12-31 00:00:00.000', 17.78, 19.45,\n",
    "           20.17, 86096035039.59, 8106863741.31, 3014573767.09, 1.76, 22.28)\n",
    "insert_cap('CS', '2015-12-31 00:00:00.000', 19.75, 21.58,\n",
    "           21.70, 87520499011.21, 8106863741.23, 501721920.40, 1.86, 25.46 )\n",
    "\n",
    "\n",
    "insert_cap('CSOB', '2018-12-31 00:00:00.000', 18.04, 18.04,\n",
    "           18.04, 69148187040.94, 0, 0, 1.18, 27.83)\n",
    "insert_cap('CSOB', '2017-12-31 00:00:00.000', 17.18, 17.18,\n",
    "           17.18, 69098318607.18, 0, 0, 1.13, 24.35)\n",
    "insert_cap('CSOB', '2016-12-31 00:00:00.000', 18.20, 18.20,\n",
    "           18.55, 68980495472.61, 0, 1311293331.77, 1.46, 26.34)\n",
    "insert_cap('CSOB', '2015-12-31 00:00:00.000', 19.06, 19.06,\n",
    "           19.37, 67036420740.63, 0, 1101570491.44, 1.54, 26.18)\n",
    "\n",
    "\n",
    "insert_cap('KB', '2018-12-31 00:00:00.000', 18.97, 18.97,\n",
    "           19.60, 77768519465.00, 0, 2578154355.00, 1.49, 20.18)\n",
    "insert_cap('KB', '2017-12-31 00:00:00.000', 18.75, 18.75,\n",
    "           19.41, 72621838567.91, 0, 2559548139.33, 1.56, 21.25)\n",
    "insert_cap('KB', '2016-12-31 00:00:00.000', 16.91, 16.91,\n",
    "           16.91, 67263224585.04, 0, 0, 1.59, 22.38)\n",
    "insert_cap('KB', '2015-12-31 00:00:00.000', 16.66, 16.66,\n",
    "           16.66, 61665444000.00, 0, 0, 1.45, 26.46 )\n",
    "\n",
    "insert_cap('RB', '2018-12-31 00:00:00.000', 13.30, 14.95,\n",
    "           16.92, 21161888091.93, 2615354000.00, 3132165465.24, 0.97, 15.63)\n",
    "insert_cap('RB', '2017-12-31 00:00:00.000', 14.05, 16.05,\n",
    "           17.69, 18322268738.36, 2615354000.00, 2136756418.45, 0.81, 13.70)\n",
    "insert_cap('RB', '2016-12-31 00:00:00.000', 13.83, 15.36,\n",
    "           17.52, 17478471281.51, 1934450000.00, 2732638555.47, 0.91, 14.05)\n",
    "insert_cap('RB', '2015-12-31 00:00:00.000', 13.81, 15.43,\n",
    "           17.76, 16975827707.67, 1934450000.00, 2770613362.54, 1.08, 13.89)\n",
    "\n",
    "#Moneta\n",
    "insert_cap('Moneta', '2018-12-31 00:00:00.000', 17.17, 17.17, 17.17, 21578361339.22, 0.00, 0.00, 2.20, 20.02)\n",
    "insert_cap('Moneta', '2017-12-31 00:00:00.000', 18.17, 18.17, 18.17, 22026944878.68, 0.00, 0.00, 2.11, 17.15)\n",
    "insert_cap('Moneta', '2016-12-31 00:00:00.000', 18.02, 18.02, 18.02, 20663300947.31, 0.00, 0.00, 5.00, 34.90)\n",
    "insert_cap('Moneta', '2015-12-31 00:00:00.000', 16.16, 16.16, 16.16, 21012459260.94, 0.00, 0.00, 2.86, 14.24)\n",
    "\n",
    "#UniCredit\n",
    "insert_cap('UniCredit', '2018-12-31 00:00:00.000', 19.76, 19.76, 20.25, 66369000000.00, 0.00, 1415000000.00, 1.35, 14.06)\n",
    "insert_cap('UniCredit', '2017-12-31 00:00:00.000', 19.40, 19.40, 19.89, 63941000000.00, 0.00, 1424000000.00, 1.38, 15.11)\n",
    "insert_cap('UniCredit', '2016-12-31 00:00:00.000', 14.61, 14.61, 15.10, 54243000000.00, 0.00, 1820000000.00, 0.91, 10.17)\n",
    "insert_cap('UniCredit', '2015-12-31 00:00:00.000', 14.04, 14.04, 14.53, 50343000000.00, 0.00, 1767000000.00, 0.98, 10.34)\n",
    "\n",
    "\n",
    "def query_cap():\n",
    "    c.execute(\"select * from capital\")\n",
    "    return c.fetchall() \n",
    "\n",
    "def table_columns():\n",
    "    c.execute(\"select * from capital where 1=0\")\n",
    "    return [d[0] for d in c.description]\n",
    "\n",
    "\n",
    "df= pd.DataFrame.from_records(data = query_cap(), columns = table_columns())\n",
    "\n",
    "\n",
    "\n",
    "conn.close\n"
   ]
  },
  {
   "cell_type": "code",
   "execution_count": 3,
   "metadata": {},
   "outputs": [],
   "source": [
    "df['year']=pd.to_datetime(df.Ultimo).dt.year"
   ]
  },
  {
   "cell_type": "code",
   "execution_count": 4,
   "metadata": {},
   "outputs": [],
   "source": [
    "import ipywidgets as widgets\n",
    "from ipywidgets import interact, interact_manual\n",
    "import plotly.graph_objects as go"
   ]
  },
  {
   "cell_type": "markdown",
   "metadata": {},
   "source": [
    "# Capital Adequacy of Czech Banks"
   ]
  },
  {
   "cell_type": "code",
   "execution_count": 5,
   "metadata": {},
   "outputs": [
    {
     "data": {
      "application/vnd.jupyter.widget-view+json": {
       "model_id": "271f411214e74990a2016ebbb4aed47e",
       "version_major": 2,
       "version_minor": 0
      },
      "text/plain": [
       "interactive(children=(Dropdown(description='year', options=(2018, 2017, 2016, 2015), value=2018), Output()), _…"
      ]
     },
     "metadata": {},
     "output_type": "display_data"
    }
   ],
   "source": [
    "@interact\n",
    "def chart(year=df.year.unique().tolist()):\n",
    "    df_year=df.loc[df['year'] == year]\n",
    "\n",
    "    fig = go.Figure()\n",
    "\n",
    "    fig.add_trace(go.Scatter(\n",
    "        x=df_year[\"CapitalRatio_CET1\"].tolist(),\n",
    "        y=df_year[\"ROAE\"].tolist(),\n",
    "        name=\"Capital Ratio and Return\",       # this sets its legend entry\n",
    "        mode='markers+text',\n",
    "        marker=dict(color=df_year.index),\n",
    "        text=df_year[\"Bank\"],\n",
    "        textposition=\"top center\"\n",
    "    ))\n",
    "\n",
    "\n",
    "    fig.update_layout(\n",
    "        title=\"CET1 Capital Ratio vs ROAE\",\n",
    "        xaxis_title=\"CET1 Capital Ratio (%)\",\n",
    "        yaxis_title=\"ROAE (%)\",\n",
    "        font=dict(\n",
    "            family=\"Courier New, monospace\",\n",
    "            size=18,\n",
    "            color=\"#7f7f7f\"\n",
    "        )\n",
    "    )\n",
    "\n",
    "    fig.show()"
   ]
  },
  {
   "cell_type": "markdown",
   "metadata": {},
   "source": [
    "Source: \n",
    "https://www.cnb.cz/en/supervision-financial-market/conduct-of-supervision/information-duties-of-financial-market-entities-vis-a-vis-the-czech-national-bank/links-to-bank-websites-that-contain-information-to-be-disclosed/\n",
    "\n",
    "Capital disclosere is regulated by Regulation (EU) No 575/2013 of the European Parliament and of the Council of 26 June 2013 on prudential requirements for credit institutions and investment firms and amending Regulation (EU) No 648/2012."
   ]
  }
 ],
 "metadata": {
  "kernelspec": {
   "display_name": "Python 3",
   "language": "python",
   "name": "python3"
  },
  "language_info": {
   "codemirror_mode": {
    "name": "ipython",
    "version": 3
   },
   "file_extension": ".py",
   "mimetype": "text/x-python",
   "name": "python",
   "nbconvert_exporter": "python",
   "pygments_lexer": "ipython3",
   "version": "3.6.6"
  }
 },
 "nbformat": 4,
 "nbformat_minor": 2
}
